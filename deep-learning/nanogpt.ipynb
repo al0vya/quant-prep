{
 "cells": [
  {
   "cell_type": "code",
   "execution_count": 28,
   "id": "852f6279-6b13-41ee-948c-71ac46aadde1",
   "metadata": {},
   "outputs": [],
   "source": [
    "import math\n",
    "import random\n",
    "import torch\n",
    "import torch.nn as nn\n",
    "import torch.nn.functional as F\n",
    "import matplotlib.pyplot as plt\n",
    "%matplotlib inline"
   ]
  },
  {
   "cell_type": "code",
   "execution_count": 2,
   "id": "912f381a-8dfd-4225-8394-08810a90d5e2",
   "metadata": {},
   "outputs": [],
   "source": [
    "with open('shakespeare.txt', 'r') as f:\n",
    "    text = f.read()"
   ]
  },
  {
   "cell_type": "code",
   "execution_count": 3,
   "id": "1541ca97-13a7-4933-bb4c-ba5744a387f7",
   "metadata": {},
   "outputs": [
    {
     "name": "stdout",
     "output_type": "stream",
     "text": [
      "Number of characters: 1115394\n"
     ]
    }
   ],
   "source": [
    "print('Number of characters:', len(text))"
   ]
  },
  {
   "cell_type": "code",
   "execution_count": 4,
   "id": "5509db4b-5e2c-4746-bc8b-7e60d73c60e5",
   "metadata": {},
   "outputs": [
    {
     "name": "stdout",
     "output_type": "stream",
     "text": [
      "First Citizen:\n",
      "Before we proceed any further, hear me speak.\n",
      "\n",
      "All:\n",
      "Speak, speak.\n",
      "\n",
      "First Citizen:\n",
      "You are all resolved rather to die than to famish?\n",
      "\n",
      "All:\n",
      "Resolved. resolved.\n",
      "\n",
      "First Citizen:\n",
      "First, you know Caius Marcius is chief enemy to the people.\n",
      "\n",
      "All:\n",
      "We know't, we know't.\n",
      "\n",
      "First Citizen:\n",
      "Let us kill him, and we'll have corn at our own price.\n",
      "Is't a verdict?\n",
      "\n",
      "All:\n",
      "No more talking on't; let it be done: away, away!\n",
      "\n",
      "Second Citizen:\n",
      "One word, good citizens.\n",
      "\n",
      "First Citizen:\n",
      "We are accounted poor citizens, the patricians good.\n",
      "What authority surfeits on would relieve us: if they\n",
      "would yield us but the superfluity, while it were\n",
      "wholesome, we might guess they relieved us humanely;\n",
      "but they think we are too dear: the leanness that\n",
      "afflicts us, the object of our misery, is as an\n",
      "inventory to particularise their abundance; our\n",
      "sufferance is a gain to them Let us revenge this with\n",
      "our pikes, ere we become rakes: for the gods know I\n",
      "speak this in hunger for bread, not in thirst for revenge.\n",
      "\n",
      "\n"
     ]
    }
   ],
   "source": [
    "print(text[:1000])"
   ]
  },
  {
   "cell_type": "code",
   "execution_count": 286,
   "id": "c774641e-51ab-4b45-8729-451515dec36b",
   "metadata": {},
   "outputs": [
    {
     "name": "stdout",
     "output_type": "stream",
     "text": [
      "Vocabulary size: 65\n",
      "\n",
      " !$&',-.3:;?ABCDEFGHIJKLMNOPQRSTUVWXYZabcdefghijklmnopqrstuvwxyz\n"
     ]
    }
   ],
   "source": [
    "# unique chars that occur in text, including newline char \\n\n",
    "chars = sorted(list(set(text)))\n",
    "vocab_size = len(chars) # basically the number of tokens; trade off between number of tokens and length of encoded strings\n",
    "print('Vocabulary size:', vocab_size)\n",
    "print(''.join(chars))"
   ]
  },
  {
   "cell_type": "markdown",
   "id": "1e2c80d5-1dfa-44c1-9553-9d8ed8ad9ea0",
   "metadata": {},
   "source": [
    "**Tokenising**\n",
    "\n",
    "Other tokenisers include [SentencePiece](https://github.com/google/sentencepiece) and [Tiktoken](https://github.com/openai/tiktoken) (used by ChatGPT)."
   ]
  },
  {
   "cell_type": "code",
   "execution_count": 14,
   "id": "7045dfdb-fe90-4ad6-b10b-d8f8afeb5223",
   "metadata": {},
   "outputs": [
    {
     "name": "stdout",
     "output_type": "stream",
     "text": [
      "string: hello world!\n",
      "encoded: [46, 43, 50, 50, 53, 1, 61, 53, 56, 50, 42, 2]\n",
      "decoded: hello world!\n"
     ]
    }
   ],
   "source": [
    "stoi = {c: i for i, c in enumerate(chars)}\n",
    "itos = {i: c for i, c in enumerate(chars)}\n",
    "encode = lambda string: [stoi[c] for c in string]\n",
    "decode = lambda encoded: ''.join([itos[i] for i in encoded])\n",
    "\n",
    "print('string: hello world!')\n",
    "print('encoded:', encode('hello world!'))\n",
    "print('decoded:', decode(encode('hello world!')))"
   ]
  },
  {
   "cell_type": "code",
   "execution_count": 17,
   "id": "2afbdf9c-4cca-4422-a647-53b3abc47ad7",
   "metadata": {},
   "outputs": [
    {
     "name": "stdout",
     "output_type": "stream",
     "text": [
      "Shape of training/dev/test data: torch.Size([1115394])\n",
      "tensor([18, 47, 56, 57, 58,  1, 15, 47, 58, 47, 64, 43, 52, 10,  0, 14, 43, 44,\n",
      "        53, 56, 43,  1, 61, 43,  1, 54, 56, 53, 41, 43, 43, 42,  1, 39, 52, 63,\n",
      "         1, 44, 59, 56, 58, 46, 43, 56,  6,  1, 46, 43, 39, 56,  1, 51, 43,  1,\n",
      "        57, 54, 43, 39, 49,  8,  0,  0, 13, 50, 50, 10,  0, 31, 54, 43, 39, 49,\n",
      "         6,  1, 57, 54, 43, 39, 49,  8,  0,  0, 18, 47, 56, 57, 58,  1, 15, 47,\n",
      "        58, 47, 64, 43, 52, 10,  0, 37, 53, 59])\n"
     ]
    }
   ],
   "source": [
    "data = torch.tensor(encode(text), dtype=torch.long)\n",
    "print('Shape of training/dev/test data:', data.shape) # just a long one dimensional tensor\n",
    "print(data[:100])"
   ]
  },
  {
   "cell_type": "code",
   "execution_count": 19,
   "id": "32fc58a2-bcb3-4b08-a143-4e7cfcc34066",
   "metadata": {},
   "outputs": [],
   "source": [
    "n = int(0.8 * len(data))\n",
    "training_data = data[:n]\n",
    "val_data = data[n:]"
   ]
  },
  {
   "cell_type": "code",
   "execution_count": 20,
   "id": "3d58b6d5-e34d-4b56-ae53-0a0c245bbdd7",
   "metadata": {},
   "outputs": [
    {
     "data": {
      "text/plain": [
       "tensor([18, 47, 56, 57, 58,  1, 15, 47, 58])"
      ]
     },
     "execution_count": 20,
     "metadata": {},
     "output_type": "execute_result"
    }
   ],
   "source": [
    "context_len = 8\n",
    "data[:context_len+1] # first training data"
   ]
  },
  {
   "cell_type": "code",
   "execution_count": 24,
   "id": "371c21f2-779d-485f-9276-a5941dccafb4",
   "metadata": {},
   "outputs": [
    {
     "name": "stdout",
     "output_type": "stream",
     "text": [
      "input: tensor([18]), target: 47\n",
      "input: tensor([18, 47]), target: 56\n",
      "input: tensor([18, 47, 56]), target: 57\n",
      "input: tensor([18, 47, 56, 57]), target: 58\n",
      "input: tensor([18, 47, 56, 57, 58]), target: 1\n",
      "input: tensor([18, 47, 56, 57, 58,  1]), target: 15\n",
      "input: tensor([18, 47, 56, 57, 58,  1, 15]), target: 47\n",
      "input: tensor([18, 47, 56, 57, 58,  1, 15, 47]), target: 58\n"
     ]
    }
   ],
   "source": [
    "X = data[:context_len]\n",
    "y = data[1:context_len+1]\n",
    "for i in range(context_len):\n",
    "    input_ = X[:i+1]\n",
    "    target = y[i].item()\n",
    "    print(f'input: {input_}, target: {target}')"
   ]
  },
  {
   "cell_type": "code",
   "execution_count": 26,
   "id": "19dbcb8d-8cd5-47d5-abe8-9ff55850ed86",
   "metadata": {},
   "outputs": [
    {
     "name": "stdout",
     "output_type": "stream",
     "text": [
      "inputs:\n",
      "torch.Size([4, 8])\n",
      "tensor([[58, 63,  8,  0,  0, 19, 24, 27],\n",
      "        [39, 59, 45, 46, 58,  1, 46, 43],\n",
      "        [49, 43, 57,  1, 53, 50, 42,  1],\n",
      "        [52, 41, 47, 43, 52, 58,  1, 56]])\n",
      "targets:\n",
      "torch.Size([4, 8])\n",
      "tensor([[63,  8,  0,  0, 19, 24, 27, 33],\n",
      "        [59, 45, 46, 58,  1, 46, 43,  1],\n",
      "        [43, 57,  1, 53, 50, 42,  1, 46],\n",
      "        [41, 47, 43, 52, 58,  1, 56, 47]])\n"
     ]
    }
   ],
   "source": [
    "torch.manual_seed(1337)\n",
    "\n",
    "batch_size = 4\n",
    "context_len = 8\n",
    "\n",
    "def get_batch(split):\n",
    "    data = training_data if split == 'train' else val_data\n",
    "    ix = torch.randint(len(data) - context_len, (batch_size, )) # ix never reaches the end of the tensor\n",
    "    X = torch.stack([data[i:i+context_len] for i in ix])\n",
    "    y = torch.stack([data[i+1:i+context_len+1] for i in ix])\n",
    "    return X, y\n",
    "\n",
    "Xb, yb = get_batch('train')\n",
    "\n",
    "print('inputs:')\n",
    "print(Xb.shape)\n",
    "print(Xb)\n",
    "print('targets:')\n",
    "print(yb.shape)\n",
    "print(yb)"
   ]
  },
  {
   "cell_type": "markdown",
   "id": "e0ebbae4-40e1-4531-9895-96db6b5dad6b",
   "metadata": {},
   "source": [
    "**Batch and time dimensions**\n",
    "\n",
    "If each input has a context length of T (so named because it's the 'time' dimension: the history the model can refer to per input) and we have a batch of B inputs, we actually have T $\\times$ B input-target pairs."
   ]
  },
  {
   "cell_type": "code",
   "execution_count": 287,
   "id": "034c903a-3783-4c5e-bbeb-2bc91da14f5f",
   "metadata": {},
   "outputs": [
    {
     "name": "stdout",
     "output_type": "stream",
     "text": [
      "context: tensor([44]), target: 47\n",
      "context: tensor([44, 47]), target: 50\n",
      "context: tensor([44, 47, 50]), target: 50\n",
      "context: tensor([44, 47, 50, 50]), target: 57\n",
      "context: tensor([44, 47, 50, 50, 57]), target: 1\n",
      "context: tensor([44, 47, 50, 50, 57,  1]), target: 51\n",
      "context: tensor([44, 47, 50, 50, 57,  1, 51]), target: 47\n",
      "context: tensor([44, 47, 50, 50, 57,  1, 51, 47]), target: 52\n",
      "context: tensor([47]), target: 52\n",
      "context: tensor([47, 52]), target: 45\n",
      "context: tensor([47, 52, 45]), target: 12\n",
      "context: tensor([47, 52, 45, 12]), target: 0\n",
      "context: tensor([47, 52, 45, 12,  0]), target: 0\n",
      "context: tensor([47, 52, 45, 12,  0,  0]), target: 18\n",
      "context: tensor([47, 52, 45, 12,  0,  0, 18]), target: 24\n",
      "context: tensor([47, 52, 45, 12,  0,  0, 18, 24]), target: 27\n",
      "context: tensor([47]), target: 57\n",
      "context: tensor([47, 57]), target: 1\n",
      "context: tensor([47, 57,  1]), target: 58\n",
      "context: tensor([47, 57,  1, 58]), target: 39\n",
      "context: tensor([47, 57,  1, 58, 39]), target: 49\n",
      "context: tensor([47, 57,  1, 58, 39, 49]), target: 43\n",
      "context: tensor([47, 57,  1, 58, 39, 49, 43]), target: 52\n",
      "context: tensor([47, 57,  1, 58, 39, 49, 43, 52]), target: 1\n",
      "context: tensor([57]), target: 58\n",
      "context: tensor([57, 58]), target: 39\n",
      "context: tensor([57, 58, 39]), target: 56\n",
      "context: tensor([57, 58, 39, 56]), target: 57\n",
      "context: tensor([57, 58, 39, 56, 57]), target: 6\n",
      "context: tensor([57, 58, 39, 56, 57,  6]), target: 0\n",
      "context: tensor([57, 58, 39, 56, 57,  6,  0]), target: 13\n",
      "context: tensor([57, 58, 39, 56, 57,  6,  0, 13]), target: 52\n",
      "context: tensor([57]), target: 1\n",
      "context: tensor([57,  1]), target: 57\n",
      "context: tensor([57,  1, 57]), target: 50\n",
      "context: tensor([57,  1, 57, 50]), target: 39\n",
      "context: tensor([57,  1, 57, 50, 39]), target: 52\n",
      "context: tensor([57,  1, 57, 50, 39, 52]), target: 42\n",
      "context: tensor([57,  1, 57, 50, 39, 52, 42]), target: 43\n",
      "context: tensor([57,  1, 57, 50, 39, 52, 42, 43]), target: 56\n",
      "context: tensor([53]), target: 52\n",
      "context: tensor([53, 52]), target: 1\n",
      "context: tensor([53, 52,  1]), target: 53\n",
      "context: tensor([53, 52,  1, 53]), target: 44\n",
      "context: tensor([53, 52,  1, 53, 44]), target: 1\n",
      "context: tensor([53, 52,  1, 53, 44,  1]), target: 39\n",
      "context: tensor([53, 52,  1, 53, 44,  1, 39]), target: 1\n",
      "context: tensor([53, 52,  1, 53, 44,  1, 39,  1]), target: 57\n",
      "context: tensor([63]), target: 1\n",
      "context: tensor([63,  1]), target: 57\n",
      "context: tensor([63,  1, 57]), target: 43\n",
      "context: tensor([63,  1, 57, 43]), target: 39\n",
      "context: tensor([63,  1, 57, 43, 39]), target: 6\n",
      "context: tensor([63,  1, 57, 43, 39,  6]), target: 0\n",
      "context: tensor([63,  1, 57, 43, 39,  6,  0]), target: 32\n",
      "context: tensor([63,  1, 57, 43, 39,  6,  0, 32]), target: 46\n",
      "context: tensor([43]), target: 0\n",
      "context: tensor([43,  0]), target: 56\n",
      "context: tensor([43,  0, 56]), target: 47\n",
      "context: tensor([43,  0, 56, 47]), target: 45\n",
      "context: tensor([43,  0, 56, 47, 45]), target: 46\n",
      "context: tensor([43,  0, 56, 47, 45, 46]), target: 58\n",
      "context: tensor([43,  0, 56, 47, 45, 46, 58]), target: 7\n",
      "context: tensor([43,  0, 56, 47, 45, 46, 58,  7]), target: 46\n",
      "context: tensor([1]), target: 44\n",
      "context: tensor([ 1, 44]), target: 50\n",
      "context: tensor([ 1, 44, 50]), target: 43\n",
      "context: tensor([ 1, 44, 50, 43]), target: 57\n",
      "context: tensor([ 1, 44, 50, 43, 57]), target: 46\n",
      "context: tensor([ 1, 44, 50, 43, 57, 46]), target: 1\n",
      "context: tensor([ 1, 44, 50, 43, 57, 46,  1]), target: 39\n",
      "context: tensor([ 1, 44, 50, 43, 57, 46,  1, 39]), target: 52\n",
      "context: tensor([44]), target: 43\n",
      "context: tensor([44, 43]), target: 1\n",
      "context: tensor([44, 43,  1]), target: 47\n",
      "context: tensor([44, 43,  1, 47]), target: 57\n",
      "context: tensor([44, 43,  1, 47, 57]), target: 1\n",
      "context: tensor([44, 43,  1, 47, 57,  1]), target: 42\n",
      "context: tensor([44, 43,  1, 47, 57,  1, 42]), target: 43\n",
      "context: tensor([44, 43,  1, 47, 57,  1, 42, 43]), target: 39\n",
      "context: tensor([58]), target: 50\n",
      "context: tensor([58, 50]), target: 43\n",
      "context: tensor([58, 50, 43]), target: 1\n",
      "context: tensor([58, 50, 43,  1]), target: 49\n",
      "context: tensor([58, 50, 43,  1, 49]), target: 47\n",
      "context: tensor([58, 50, 43,  1, 49, 47]), target: 52\n",
      "context: tensor([58, 50, 43,  1, 49, 47, 52]), target: 45\n",
      "context: tensor([58, 50, 43,  1, 49, 47, 52, 45]), target: 1\n",
      "context: tensor([41]), target: 53\n",
      "context: tensor([41, 53]), target: 52\n",
      "context: tensor([41, 53, 52]), target: 42\n",
      "context: tensor([41, 53, 52, 42]), target: 1\n",
      "context: tensor([41, 53, 52, 42,  1]), target: 25\n",
      "context: tensor([41, 53, 52, 42,  1, 25]), target: 59\n",
      "context: tensor([41, 53, 52, 42,  1, 25, 59]), target: 56\n",
      "context: tensor([41, 53, 52, 42,  1, 25, 59, 56]), target: 42\n",
      "context: tensor([46]), target: 43\n",
      "context: tensor([46, 43]), target: 57\n",
      "context: tensor([46, 43, 57]), target: 43\n",
      "context: tensor([46, 43, 57, 43]), target: 1\n",
      "context: tensor([46, 43, 57, 43,  1]), target: 44\n",
      "context: tensor([46, 43, 57, 43,  1, 44]), target: 56\n",
      "context: tensor([46, 43, 57, 43,  1, 44, 56]), target: 53\n",
      "context: tensor([46, 43, 57, 43,  1, 44, 56, 53]), target: 61\n",
      "context: tensor([1]), target: 52\n",
      "context: tensor([ 1, 52]), target: 53\n",
      "context: tensor([ 1, 52, 53]), target: 58\n",
      "context: tensor([ 1, 52, 53, 58]), target: 1\n",
      "context: tensor([ 1, 52, 53, 58,  1]), target: 46\n",
      "context: tensor([ 1, 52, 53, 58,  1, 46]), target: 39\n",
      "context: tensor([ 1, 52, 53, 58,  1, 46, 39]), target: 60\n",
      "context: tensor([ 1, 52, 53, 58,  1, 46, 39, 60]), target: 43\n",
      "context: tensor([39]), target: 57\n",
      "context: tensor([39, 57]), target: 1\n",
      "context: tensor([39, 57,  1]), target: 40\n",
      "context: tensor([39, 57,  1, 40]), target: 43\n",
      "context: tensor([39, 57,  1, 40, 43]), target: 41\n",
      "context: tensor([39, 57,  1, 40, 43, 41]), target: 53\n",
      "context: tensor([39, 57,  1, 40, 43, 41, 53]), target: 51\n",
      "context: tensor([39, 57,  1, 40, 43, 41, 53, 51]), target: 43\n",
      "context: tensor([39]), target: 58\n",
      "context: tensor([39, 58]), target: 6\n",
      "context: tensor([39, 58,  6]), target: 1\n",
      "context: tensor([39, 58,  6,  1]), target: 47\n",
      "context: tensor([39, 58,  6,  1, 47]), target: 57\n",
      "context: tensor([39, 58,  6,  1, 47, 57]), target: 1\n",
      "context: tensor([39, 58,  6,  1, 47, 57,  1]), target: 46\n",
      "context: tensor([39, 58,  6,  1, 47, 57,  1, 46]), target: 43\n",
      "context: tensor([45]), target: 57\n",
      "context: tensor([45, 57]), target: 0\n",
      "context: tensor([45, 57,  0]), target: 35\n",
      "context: tensor([45, 57,  0, 35]), target: 46\n",
      "context: tensor([45, 57,  0, 35, 46]), target: 47\n",
      "context: tensor([45, 57,  0, 35, 46, 47]), target: 41\n",
      "context: tensor([45, 57,  0, 35, 46, 47, 41]), target: 46\n",
      "context: tensor([45, 57,  0, 35, 46, 47, 41, 46]), target: 1\n",
      "context: tensor([42]), target: 53\n",
      "context: tensor([42, 53]), target: 52\n",
      "context: tensor([42, 53, 52]), target: 1\n",
      "context: tensor([42, 53, 52,  1]), target: 39\n",
      "context: tensor([42, 53, 52,  1, 39]), target: 50\n",
      "context: tensor([42, 53, 52,  1, 39, 50]), target: 50\n",
      "context: tensor([42, 53, 52,  1, 39, 50, 50]), target: 1\n",
      "context: tensor([42, 53, 52,  1, 39, 50, 50,  1]), target: 53\n",
      "context: tensor([53]), target: 59\n",
      "context: tensor([53, 59]), target: 57\n",
      "context: tensor([53, 59, 57]), target: 1\n",
      "context: tensor([53, 59, 57,  1]), target: 57\n",
      "context: tensor([53, 59, 57,  1, 57]), target: 53\n",
      "context: tensor([53, 59, 57,  1, 57, 53]), target: 60\n",
      "context: tensor([53, 59, 57,  1, 57, 53, 60]), target: 43\n",
      "context: tensor([53, 59, 57,  1, 57, 53, 60, 43]), target: 56\n",
      "context: tensor([42]), target: 61\n",
      "context: tensor([42, 61]), target: 47\n",
      "context: tensor([42, 61, 47]), target: 44\n",
      "context: tensor([42, 61, 47, 44]), target: 43\n",
      "context: tensor([42, 61, 47, 44, 43]), target: 1\n",
      "context: tensor([42, 61, 47, 44, 43,  1]), target: 58\n",
      "context: tensor([42, 61, 47, 44, 43,  1, 58]), target: 53\n",
      "context: tensor([42, 61, 47, 44, 43,  1, 58, 53]), target: 1\n",
      "context: tensor([58]), target: 43\n",
      "context: tensor([58, 43]), target: 42\n",
      "context: tensor([58, 43, 42]), target: 0\n",
      "context: tensor([58, 43, 42,  0]), target: 13\n",
      "context: tensor([58, 43, 42,  0, 13]), target: 1\n",
      "context: tensor([58, 43, 42,  0, 13,  1]), target: 54\n",
      "context: tensor([58, 43, 42,  0, 13,  1, 54]), target: 56\n",
      "context: tensor([58, 43, 42,  0, 13,  1, 54, 56]), target: 47\n",
      "context: tensor([58]), target: 1\n",
      "context: tensor([58,  1]), target: 47\n",
      "context: tensor([58,  1, 47]), target: 57\n",
      "context: tensor([58,  1, 47, 57]), target: 1\n",
      "context: tensor([58,  1, 47, 57,  1]), target: 45\n",
      "context: tensor([58,  1, 47, 57,  1, 45]), target: 59\n",
      "context: tensor([58,  1, 47, 57,  1, 45, 59]), target: 47\n",
      "context: tensor([58,  1, 47, 57,  1, 45, 59, 47]), target: 50\n",
      "context: tensor([1]), target: 57\n",
      "context: tensor([ 1, 57]), target: 53\n",
      "context: tensor([ 1, 57, 53]), target: 1\n",
      "context: tensor([ 1, 57, 53,  1]), target: 57\n",
      "context: tensor([ 1, 57, 53,  1, 57]), target: 53\n",
      "context: tensor([ 1, 57, 53,  1, 57, 53]), target: 44\n",
      "context: tensor([ 1, 57, 53,  1, 57, 53, 44]), target: 58\n",
      "context: tensor([ 1, 57, 53,  1, 57, 53, 44, 58]), target: 1\n",
      "context: tensor([58]), target: 46\n",
      "context: tensor([58, 46]), target: 43\n",
      "context: tensor([58, 46, 43]), target: 63\n",
      "context: tensor([58, 46, 43, 63]), target: 1\n",
      "context: tensor([58, 46, 43, 63,  1]), target: 58\n",
      "context: tensor([58, 46, 43, 63,  1, 58]), target: 46\n",
      "context: tensor([58, 46, 43, 63,  1, 58, 46]), target: 39\n",
      "context: tensor([58, 46, 43, 63,  1, 58, 46, 39]), target: 58\n",
      "context: tensor([42]), target: 53\n",
      "context: tensor([42, 53]), target: 52\n",
      "context: tensor([42, 53, 52]), target: 43\n",
      "context: tensor([42, 53, 52, 43]), target: 0\n",
      "context: tensor([42, 53, 52, 43,  0]), target: 13\n",
      "context: tensor([42, 53, 52, 43,  0, 13]), target: 57\n",
      "context: tensor([42, 53, 52, 43,  0, 13, 57]), target: 1\n",
      "context: tensor([42, 53, 52, 43,  0, 13, 57,  1]), target: 63\n",
      "context: tensor([1]), target: 47\n",
      "context: tensor([ 1, 47]), target: 52\n",
      "context: tensor([ 1, 47, 52]), target: 1\n",
      "context: tensor([ 1, 47, 52,  1]), target: 42\n",
      "context: tensor([ 1, 47, 52,  1, 42]), target: 43\n",
      "context: tensor([ 1, 47, 52,  1, 42, 43]), target: 43\n",
      "context: tensor([ 1, 47, 52,  1, 42, 43, 43]), target: 42\n",
      "context: tensor([ 1, 47, 52,  1, 42, 43, 43, 42]), target: 57\n",
      "context: tensor([18]), target: 39\n",
      "context: tensor([18, 39]), target: 56\n",
      "context: tensor([18, 39, 56]), target: 43\n",
      "context: tensor([18, 39, 56, 43]), target: 61\n",
      "context: tensor([18, 39, 56, 43, 61]), target: 43\n",
      "context: tensor([18, 39, 56, 43, 61, 43]), target: 50\n",
      "context: tensor([18, 39, 56, 43, 61, 43, 50]), target: 50\n",
      "context: tensor([18, 39, 56, 43, 61, 43, 50, 50]), target: 6\n",
      "context: tensor([51]), target: 6\n",
      "context: tensor([51,  6]), target: 1\n",
      "context: tensor([51,  6,  1]), target: 46\n",
      "context: tensor([51,  6,  1, 46]), target: 43\n",
      "context: tensor([51,  6,  1, 46, 43]), target: 1\n",
      "context: tensor([51,  6,  1, 46, 43,  1]), target: 57\n",
      "context: tensor([51,  6,  1, 46, 43,  1, 57]), target: 50\n",
      "context: tensor([51,  6,  1, 46, 43,  1, 57, 50]), target: 43\n",
      "context: tensor([47]), target: 58\n",
      "context: tensor([47, 58]), target: 46\n",
      "context: tensor([47, 58, 46]), target: 1\n",
      "context: tensor([47, 58, 46,  1]), target: 51\n",
      "context: tensor([47, 58, 46,  1, 51]), target: 43\n",
      "context: tensor([47, 58, 46,  1, 51, 43]), target: 12\n",
      "context: tensor([47, 58, 46,  1, 51, 43, 12]), target: 0\n",
      "context: tensor([47, 58, 46,  1, 51, 43, 12,  0]), target: 0\n",
      "context: tensor([47]), target: 50\n",
      "context: tensor([47, 50]), target: 6\n",
      "context: tensor([47, 50,  6]), target: 1\n",
      "context: tensor([47, 50,  6,  1]), target: 58\n",
      "context: tensor([47, 50,  6,  1, 58]), target: 53\n",
      "context: tensor([47, 50,  6,  1, 58, 53]), target: 1\n",
      "context: tensor([47, 50,  6,  1, 58, 53,  1]), target: 57\n",
      "context: tensor([47, 50,  6,  1, 58, 53,  1, 57]), target: 58\n",
      "context: tensor([50]), target: 43\n",
      "context: tensor([50, 43]), target: 1\n",
      "context: tensor([50, 43,  1]), target: 42\n",
      "context: tensor([50, 43,  1, 42]), target: 53\n",
      "context: tensor([50, 43,  1, 42, 53]), target: 61\n",
      "context: tensor([50, 43,  1, 42, 53, 61]), target: 52\n",
      "context: tensor([50, 43,  1, 42, 53, 61, 52]), target: 6\n",
      "context: tensor([50, 43,  1, 42, 53, 61, 52,  6]), target: 0\n",
      "context: tensor([41]), target: 43\n",
      "context: tensor([41, 43]), target: 1\n",
      "context: tensor([41, 43,  1]), target: 59\n",
      "context: tensor([41, 43,  1, 59]), target: 54\n",
      "context: tensor([41, 43,  1, 59, 54]), target: 1\n",
      "context: tensor([41, 43,  1, 59, 54,  1]), target: 47\n",
      "context: tensor([41, 43,  1, 59, 54,  1, 47]), target: 52\n",
      "context: tensor([41, 43,  1, 59, 54,  1, 47, 52]), target: 1\n"
     ]
    }
   ],
   "source": [
    "for b in range(batch_size): # batch dimension\n",
    "    for t in range(context_len): # time dimension\n",
    "        context = Xb[b, :t+1]\n",
    "        target = yb[b, t]\n",
    "        print(f'context: {context}, target: {target}')"
   ]
  },
  {
   "cell_type": "code",
   "execution_count": 221,
   "id": "e09d82af-a33e-4416-aa9c-915d4b77d9cb",
   "metadata": {},
   "outputs": [
    {
     "name": "stdout",
     "output_type": "stream",
     "text": [
      "torch.Size([256, 65])\n",
      "tensor(4.6437, grad_fn=<NllLossBackward0>)\n",
      "torch.Size([1, 501])\n",
      "\n",
      "uuO,Dq:SgJAxjqRREJzszTrVQC3y&,u&Hxeleqm$FD.UZwlxLKU$k.KaiOLMpNY:LclxA;;C$NVICzDQwP:MwuTdlWg$vSKMitAwln,kZMsqFzmpl:EMpmD'OKMRG$Dp$DupoZMk;:,:yFhe\n",
      "3T\n",
      "yhUK\n",
      "BijposvO!P!CyNQfYKO'P!RaIxvuTDe'VnFUURcYneIPbITrPO-dNZrjAGXGIPn!xj3H3k!AefNhTEV$;aFz\n",
      "&C$VA.ocXN WovdWIxEJORWp.BwUgG.xaI.B-$FW3F3Aj33jhZMZMp:KNJ.BbFUhgfJ'gVTovVHuVnD\n",
      "isPncq OVIpEAB:yOC$d3MpZ!EtAoYghi&CzdUt:Zh$JII&MMkKN-3e.C:':&m-du&mMROjarVvg!CpoDOQ3TsPFFUqszrlLBw..qjipZ!vPF,IRi'&fywVBYRSK&CKkWzcL'i&HcGXNoiPg.I.BxE:SxYp'AaSu$VIcydjBA&HoSFrG'yTrpr\n"
     ]
    }
   ],
   "source": [
    "class BigramLanguageModel(nn.Module):\n",
    "\n",
    "    def __init__(self, vocab_size):\n",
    "        super().__init__()\n",
    "        self.token_embedding_table = nn.Embedding(vocab_size, vocab_size)\n",
    "\n",
    "    def forward(self, ix, targets=None):\n",
    "        # idx is a tensor of size (B,T)\n",
    "        logits = self.token_embedding_table(ix) # call to embedding layer just indexs at idx and returns\n",
    "        # logits is made up of B batches of matrices T rows long, each row vocab_size wide, i.e. (B,T,vocab_size) \n",
    "        \n",
    "        if targets == None:\n",
    "            loss = None\n",
    "        else:\n",
    "            B, T, C = logits.shape\n",
    "            logits = logits.view(B*T, C)\n",
    "            # targets is also (B,T)\n",
    "            targets = targets.view(B*T)\n",
    "            loss = F.cross_entropy(logits, targets)\n",
    "        \n",
    "        return logits, loss\n",
    "\n",
    "    def generate(self, ix, max_tokens):\n",
    "        for _ in range(max_tokens):\n",
    "            logits, loss = self(ix)\n",
    "            logits = logits[:, -1, :]\n",
    "            probs = F.softmax(logits, dim=1)\n",
    "            ix_next = torch.multinomial(probs, num_samples=1)\n",
    "            ix = torch.cat((ix, ix_next), dim=1)\n",
    "        return ix\n",
    "\n",
    "m = BigramLanguageModel(vocab_size)\n",
    "out, loss = m(Xb, yb)\n",
    "print(out.shape)\n",
    "print(loss)\n",
    "\n",
    "ix = torch.zeros((1,1), dtype=torch.long)\n",
    "encoded = m.generate(ix, max_tokens=500)\n",
    "print(encoded.shape)\n",
    "print(decode(encoded[0].tolist()))"
   ]
  },
  {
   "cell_type": "code",
   "execution_count": 222,
   "id": "915d172a-e385-42c6-99b4-5b8097876673",
   "metadata": {},
   "outputs": [],
   "source": [
    "optimiser = torch.optim.AdamW(m.parameters(), lr=1e-3)"
   ]
  },
  {
   "cell_type": "code",
   "execution_count": 284,
   "id": "c3ccfcec-3276-4d4a-9548-521198af6dcf",
   "metadata": {},
   "outputs": [
    {
     "name": "stdout",
     "output_type": "stream",
     "text": [
      "2.503762722015381\n"
     ]
    }
   ],
   "source": [
    "batch_size = 32\n",
    "epochs = 100\n",
    "\n",
    "for e in range(epochs):\n",
    "    Xb, yb = get_batch('train')\n",
    "    logits, loss = m(Xb, yb)\n",
    "    optimiser.zero_grad(set_to_none=True)\n",
    "    loss.backward()\n",
    "    optimiser.step()\n",
    "\n",
    "print(loss.item())"
   ]
  },
  {
   "cell_type": "code",
   "execution_count": 285,
   "id": "954cfd98-8aca-49ca-815c-3a958bfbfda0",
   "metadata": {},
   "outputs": [
    {
     "name": "stdout",
     "output_type": "stream",
     "text": [
      "\n",
      "pp s trollliWhe 'wt,-ns vcind ffod geth s s t;\n",
      "NLTrveve d.\n",
      "\n",
      "KO,\n",
      "PHceatofathow seerd!?\n",
      "SCENG an the hit thige\n",
      "MI if-janod.\n",
      "KI prous cang, t:\n",
      "Awhe henchas DUThe:\n",
      "AreGr! o thjanod mnff ee t!Y:\n",
      "HqDutathano, I thad t nceUTOun m.\n",
      "He'&exicalowissthis thanouse tthviy. meplipar'Den? bes; wsinetha pre RDYoverilat--cou t thiriondy t o s hin nke f.\n",
      "GLAngal ano ien?\n",
      "\n",
      "\n",
      "INoh'll fr thame yovest\n",
      "Aued he thesthe ast: cur I matha oFr awn n te andeald orplin a higd mell m owinsod cr,\n",
      "\n",
      "prkerNLLENCOberelineerored, wi\n"
     ]
    }
   ],
   "source": [
    "ix = torch.zeros((1,1), dtype=torch.long)\n",
    "encoded = m.generate(ix, max_tokens=500)\n",
    "print(decode(encoded[0].tolist()))"
   ]
  },
  {
   "cell_type": "code",
   "execution_count": null,
   "id": "0d8bf27b-b09c-47af-9e6b-0235725639e4",
   "metadata": {},
   "outputs": [],
   "source": []
  }
 ],
 "metadata": {
  "kernelspec": {
   "display_name": "Python 3 (ipykernel)",
   "language": "python",
   "name": "python3"
  },
  "language_info": {
   "codemirror_mode": {
    "name": "ipython",
    "version": 3
   },
   "file_extension": ".py",
   "mimetype": "text/x-python",
   "name": "python",
   "nbconvert_exporter": "python",
   "pygments_lexer": "ipython3",
   "version": "3.12.2"
  }
 },
 "nbformat": 4,
 "nbformat_minor": 5
}
