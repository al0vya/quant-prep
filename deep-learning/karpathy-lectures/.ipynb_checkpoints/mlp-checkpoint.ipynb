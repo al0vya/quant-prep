{
 "cells": [
  {
   "cell_type": "code",
   "execution_count": 2,
   "id": "312646bb-f7e7-41b2-9132-94ba2f8b0184",
   "metadata": {},
   "outputs": [],
   "source": [
    "import math\n",
    "import random\n",
    "import torch\n",
    "import torch.nn.functional as F\n",
    "import matplotlib.pyplot as plt"
   ]
  },
  {
   "cell_type": "code",
   "execution_count": 3,
   "id": "b790fa00-5855-411d-9ed7-b8261af32aca",
   "metadata": {},
   "outputs": [],
   "source": [
    "names = open('names.txt','r').read().splitlines()\n",
    "chars = sorted(list(set((''.join(names)))))\n",
    "stoi = {s: i+1 for i, s in enumerate(chars)}\n",
    "stoi['.'] = 0\n",
    "itos = {stoi[s]: s for s in stoi}"
   ]
  },
  {
   "cell_type": "code",
   "execution_count": 4,
   "id": "a722e6b9-1094-4046-8859-b4facfc36e7a",
   "metadata": {},
   "outputs": [],
   "source": [
    "def train_dev_test_data(names, block_size=3, n=None):\n",
    "    X, y = [], []\n",
    "    for name in names[:n]:\n",
    "        context = [0] * block_size\n",
    "        for char in name + '.':\n",
    "            i = stoi[char]\n",
    "            X.append(context)\n",
    "            y.append(i)\n",
    "            if n is not None and n < 10:\n",
    "                print(''.join(itos[j] for j in context), '->', itos[i])\n",
    "            context = context[1:] + [i]\n",
    "    \n",
    "    zipped = list(zip(X, y))\n",
    "    random.shuffle(zipped)\n",
    "    X, y = zip(*zipped)\n",
    "    \n",
    "    n_dev = int(0.8 * len(X))\n",
    "    n_test = int(0.9 * len(X))\n",
    "    \n",
    "    X_train = torch.tensor(X[:n_dev])\n",
    "    y_train = torch.tensor(y[:n_dev])\n",
    "    \n",
    "    X_dev = torch.tensor(X[n_dev:n_test])\n",
    "    y_dev = torch.tensor(y[n_dev:n_test])\n",
    "    \n",
    "    X_test = torch.tensor(X[n_test:])\n",
    "    y_test = torch.tensor(y[n_test:])\n",
    "    \n",
    "    return X_train, y_train, X_dev, y_dev, X_test, y_test"
   ]
  },
  {
   "cell_type": "code",
   "execution_count": 5,
   "id": "b2f44f93-415c-4c55-9cad-03432f9188ed",
   "metadata": {},
   "outputs": [
    {
     "name": "stdout",
     "output_type": "stream",
     "text": [
      "... -> e\n",
      "..e -> m\n",
      ".em -> m\n",
      "emm -> a\n",
      "mma -> .\n",
      "... -> o\n",
      "..o -> l\n",
      ".ol -> i\n",
      "oli -> v\n",
      "liv -> i\n",
      "ivi -> a\n",
      "via -> .\n"
     ]
    }
   ],
   "source": [
    "X_train, y_train, X_dev, y_dev, X_test, y_test = train_dev_test_data(names, n=2, block_size=3)"
   ]
  },
  {
   "cell_type": "code",
   "execution_count": 21,
   "id": "d84d3a02-a1fd-4fb8-8532-eae0609e42ed",
   "metadata": {},
   "outputs": [
    {
     "data": {
      "text/plain": [
       "(torch.Size([9, 3]), torch.int64, torch.Size([9]), torch.int64)"
      ]
     },
     "execution_count": 21,
     "metadata": {},
     "output_type": "execute_result"
    }
   ],
   "source": [
    "X_train.shape, X_train.dtype, y_train.shape, y_train.dtype"
   ]
  },
  {
   "cell_type": "code",
   "execution_count": 22,
   "id": "1c3ceb98-97cb-4665-a28a-4235f5c2844c",
   "metadata": {},
   "outputs": [
    {
     "data": {
      "text/plain": [
       "(torch.Size([1, 3]), torch.int64, torch.Size([1]), torch.int64)"
      ]
     },
     "execution_count": 22,
     "metadata": {},
     "output_type": "execute_result"
    }
   ],
   "source": [
    "X_dev.shape, X_dev.dtype, y_dev.shape, y_dev.dtype"
   ]
  },
  {
   "cell_type": "code",
   "execution_count": 23,
   "id": "9a778ff7-b473-4d27-b2b3-7bdf98ad5318",
   "metadata": {},
   "outputs": [
    {
     "data": {
      "text/plain": [
       "(torch.Size([2, 3]), torch.int64, torch.Size([2]), torch.int64)"
      ]
     },
     "execution_count": 23,
     "metadata": {},
     "output_type": "execute_result"
    }
   ],
   "source": [
    "X_test.shape, X_test.dtype, y_test.shape, y_test.dtype"
   ]
  },
  {
   "cell_type": "code",
   "execution_count": 24,
   "id": "2282c976-72dc-4cb8-b92b-f4de0a008faf",
   "metadata": {},
   "outputs": [
    {
     "name": "stdout",
     "output_type": "stream",
     "text": [
      "tensor([[-0.7790, -1.0044],\n",
      "        [-0.0338,  0.2858],\n",
      "        [ 0.4344,  1.1650],\n",
      "        [-1.2435,  0.4437],\n",
      "        [ 1.6425,  0.3176],\n",
      "        [-1.0353, -1.1754],\n",
      "        [ 0.3561, -0.9735],\n",
      "        [ 0.1633, -0.8352],\n",
      "        [ 0.8442,  0.7030],\n",
      "        [-0.3424,  1.7924],\n",
      "        [ 0.3038,  0.0190],\n",
      "        [-0.3059, -0.3271],\n",
      "        [ 2.0937, -0.5044],\n",
      "        [ 0.4086, -0.1187],\n",
      "        [-0.4709, -0.1303],\n",
      "        [ 1.9620,  0.2919],\n",
      "        [ 1.4112, -0.3573],\n",
      "        [ 0.3229, -0.5892],\n",
      "        [ 0.5256, -0.6232],\n",
      "        [ 0.5495, -1.3806],\n",
      "        [ 1.1203, -0.5219],\n",
      "        [ 0.8373,  1.6658],\n",
      "        [ 1.3685,  0.0788],\n",
      "        [-0.2839,  1.9553],\n",
      "        [ 0.1993,  0.3543],\n",
      "        [ 3.4678,  0.1800],\n",
      "        [-0.0328,  0.8323]])\n"
     ]
    }
   ],
   "source": [
    "# embed 27 possible output chars (rows) into 2 dimensional vector space (cols)\n",
    "C = torch.randn(27, 2)\n",
    "print(C)"
   ]
  },
  {
   "cell_type": "markdown",
   "id": "4bd8c6bc-7801-4fa5-a049-b553509cb999",
   "metadata": {},
   "source": [
    "**Indexing instead of one-hot encoding**\n",
    "\n",
    "We could retrieve the embedding of each input by one hot encoding it and then doing `X_onehot @ C`, but it's equivalent to just indexing which is must faster, i.e. `X_onehot = F.one_hot(X); X_onehot @ C == C[X]`."
   ]
  },
  {
   "cell_type": "code",
   "execution_count": 25,
   "id": "2e8f6978-0144-4174-835b-d2f7963b0d5d",
   "metadata": {},
   "outputs": [
    {
     "name": "stdout",
     "output_type": "stream",
     "text": [
      "torch.Size([9, 3, 2])\n",
      "tensor([[[-0.7790, -1.0044],\n",
      "         [-0.7790, -1.0044],\n",
      "         [-1.0353, -1.1754]],\n",
      "\n",
      "        [[ 0.4086, -0.1187],\n",
      "         [ 0.4086, -0.1187],\n",
      "         [-0.0338,  0.2858]],\n",
      "\n",
      "        [[-0.7790, -1.0044],\n",
      "         [-1.0353, -1.1754],\n",
      "         [ 0.4086, -0.1187]],\n",
      "\n",
      "        [[ 1.3685,  0.0788],\n",
      "         [-0.3424,  1.7924],\n",
      "         [-0.0338,  0.2858]],\n",
      "\n",
      "        [[ 2.0937, -0.5044],\n",
      "         [-0.3424,  1.7924],\n",
      "         [ 1.3685,  0.0788]],\n",
      "\n",
      "        [[-0.7790, -1.0044],\n",
      "         [-0.7790, -1.0044],\n",
      "         [ 1.9620,  0.2919]],\n",
      "\n",
      "        [[-0.7790, -1.0044],\n",
      "         [-0.7790, -1.0044],\n",
      "         [-0.7790, -1.0044]],\n",
      "\n",
      "        [[ 1.9620,  0.2919],\n",
      "         [ 2.0937, -0.5044],\n",
      "         [-0.3424,  1.7924]],\n",
      "\n",
      "        [[-0.7790, -1.0044],\n",
      "         [-0.7790, -1.0044],\n",
      "         [-0.7790, -1.0044]]])\n"
     ]
    },
    {
     "data": {
      "text/plain": [
       "tensor([-0.7790, -1.0044, -0.7790, -1.0044, -1.0353, -1.1754,  0.4086, -0.1187,\n",
       "         0.4086, -0.1187, -0.0338,  0.2858, -0.7790, -1.0044, -1.0353, -1.1754,\n",
       "         0.4086, -0.1187,  1.3685,  0.0788, -0.3424,  1.7924, -0.0338,  0.2858,\n",
       "         2.0937, -0.5044, -0.3424,  1.7924,  1.3685,  0.0788, -0.7790, -1.0044,\n",
       "        -0.7790, -1.0044,  1.9620,  0.2919, -0.7790, -1.0044, -0.7790, -1.0044,\n",
       "        -0.7790, -1.0044,  1.9620,  0.2919,  2.0937, -0.5044, -0.3424,  1.7924,\n",
       "        -0.7790, -1.0044, -0.7790, -1.0044, -0.7790, -1.0044])"
      ]
     },
     "execution_count": 25,
     "metadata": {},
     "output_type": "execute_result"
    }
   ],
   "source": [
    "emb = C[X_train]\n",
    "print(emb.shape)\n",
    "print(emb)\n",
    "emb.view(-1)"
   ]
  },
  {
   "cell_type": "code",
   "execution_count": 26,
   "id": "bede3f03-db59-409c-a5a2-a2c412d7b350",
   "metadata": {},
   "outputs": [],
   "source": [
    "n_hid = 100\n",
    "\n",
    "W1 = torch.randn(6, n_hid)\n",
    "b1 = torch.randn(n_hid)"
   ]
  },
  {
   "cell_type": "code",
   "execution_count": 27,
   "id": "46d3c993-09cd-4063-8d61-e81ca4b98490",
   "metadata": {},
   "outputs": [
    {
     "name": "stdout",
     "output_type": "stream",
     "text": [
      "tensor([[-0.7790, -1.0044, -0.7790, -1.0044, -1.0353, -1.1754],\n",
      "        [ 0.4086, -0.1187,  0.4086, -0.1187, -0.0338,  0.2858],\n",
      "        [-0.7790, -1.0044, -1.0353, -1.1754,  0.4086, -0.1187],\n",
      "        [ 1.3685,  0.0788, -0.3424,  1.7924, -0.0338,  0.2858],\n",
      "        [ 2.0937, -0.5044, -0.3424,  1.7924,  1.3685,  0.0788],\n",
      "        [-0.7790, -1.0044, -0.7790, -1.0044,  1.9620,  0.2919],\n",
      "        [-0.7790, -1.0044, -0.7790, -1.0044, -0.7790, -1.0044],\n",
      "        [ 1.9620,  0.2919,  2.0937, -0.5044, -0.3424,  1.7924],\n",
      "        [-0.7790, -1.0044, -0.7790, -1.0044, -0.7790, -1.0044]])\n"
     ]
    },
    {
     "data": {
      "text/plain": [
       "(tensor([[-0.7790, -1.0044],\n",
       "         [ 0.4086, -0.1187],\n",
       "         [-0.7790, -1.0044],\n",
       "         [ 1.3685,  0.0788],\n",
       "         [ 2.0937, -0.5044],\n",
       "         [-0.7790, -1.0044],\n",
       "         [-0.7790, -1.0044],\n",
       "         [ 1.9620,  0.2919],\n",
       "         [-0.7790, -1.0044]]),\n",
       " tensor([[-0.7790, -1.0044],\n",
       "         [ 0.4086, -0.1187],\n",
       "         [-1.0353, -1.1754],\n",
       "         [-0.3424,  1.7924],\n",
       "         [-0.3424,  1.7924],\n",
       "         [-0.7790, -1.0044],\n",
       "         [-0.7790, -1.0044],\n",
       "         [ 2.0937, -0.5044],\n",
       "         [-0.7790, -1.0044]]),\n",
       " tensor([[-1.0353, -1.1754],\n",
       "         [-0.0338,  0.2858],\n",
       "         [ 0.4086, -0.1187],\n",
       "         [-0.0338,  0.2858],\n",
       "         [ 1.3685,  0.0788],\n",
       "         [ 1.9620,  0.2919],\n",
       "         [-0.7790, -1.0044],\n",
       "         [-0.3424,  1.7924],\n",
       "         [-0.7790, -1.0044]]))"
      ]
     },
     "execution_count": 27,
     "metadata": {},
     "output_type": "execute_result"
    }
   ],
   "source": [
    "input_ = torch.cat(torch.unbind(emb, 1), 1)\n",
    "print(input_)\n",
    "torch.unbind(emb, 1)"
   ]
  },
  {
   "cell_type": "code",
   "execution_count": 28,
   "id": "72920e4e-7ede-4950-8a8c-40fdf53e0509",
   "metadata": {},
   "outputs": [
    {
     "data": {
      "text/plain": [
       "tensor(16.7910)"
      ]
     },
     "execution_count": 28,
     "metadata": {},
     "output_type": "execute_result"
    }
   ],
   "source": [
    "# more efficient because it doesn't allocate new memory like cat\n",
    "# just changes the view of the existing linear array in memory\n",
    "input__ = emb.view(emb.shape[0], 6)\n",
    "\n",
    "h = torch.tanh(input__ @ W1 + b1)\n",
    "\n",
    "W2 = torch.randn(n_hid, 27)\n",
    "b2 = torch.randn(27)\n",
    "\n",
    "logits = h @ W2 + b2\n",
    "'''\n",
    "counts = logits.exp()\n",
    "probs = counts / counts.sum(1, keepdims=True)\n",
    "N = y.shape[0]\n",
    "loglik = -probs[torch.arange(N), y].log().mean()\n",
    "'''\n",
    "loglik = F.cross_entropy(logits, y_train) # previous four lines are actually cross entropy\n",
    "loglik"
   ]
  },
  {
   "cell_type": "code",
   "execution_count": 62,
   "id": "9b2e0be2-442c-4186-bf13-ac3c6aa058bc",
   "metadata": {},
   "outputs": [],
   "source": [
    "dim_embed = 4\n",
    "block_size = 6\n",
    "X_train, y_train, X_dev, y_dev, X_test, y_test = train_dev_test_data(names, block_size=block_size)\n",
    "n_hid = 300\n",
    "C = torch.randn(27, dim_embed, requires_grad=True)\n",
    "W1 = torch.randn(dim_embed * block_size, n_hid, requires_grad=True)\n",
    "b1 = torch.randn(n_hid, requires_grad=True)\n",
    "W2 = torch.randn(n_hid, 27, requires_grad=True)\n",
    "b2 = torch.randn(27, requires_grad=True)\n",
    "params = [C, W1, b1, W2, b2]\n",
    "epochs = 5000\n",
    "lossi = []\n",
    "lri = []\n",
    "lre = torch.linspace(-3, 0, epochs)\n",
    "lrs = 10 ** lre"
   ]
  },
  {
   "cell_type": "code",
   "execution_count": 74,
   "id": "fbc2c647-5da3-4031-b1a0-2432b3de908e",
   "metadata": {},
   "outputs": [
    {
     "data": {
      "text/plain": [
       "[<matplotlib.lines.Line2D at 0x272d2766510>]"
      ]
     },
     "execution_count": 74,
     "metadata": {},
     "output_type": "execute_result"
    },
    {
     "data": {
      "image/png": "[encoded data removed]",
      "text/plain": [
       "<Figure size 640x480 with 1 Axes>"
      ]
     },
     "metadata": {},
     "output_type": "display_data"
    }
   ],
   "source": [
    "a = 0.01 # from plotting loss against different a and taking minimum\n",
    "\n",
    "for e in range(epochs):\n",
    "    # minibatch\n",
    "    sz = 100\n",
    "    rows = torch.randint(0, X_train.shape[0], (sz, ))\n",
    "    \n",
    "    # forward pass\n",
    "    emb = C[X_train[rows]]\n",
    "    h = torch.tanh(emb.view(-1, dim_embed * block_size) @ W1 + b1) # 6 = block_size * dim(embedding space), basically want to get the embedding per input all on one row\n",
    "    logits = h @ W2 + b2\n",
    "    loss = F.cross_entropy(logits, y_train[rows])\n",
    "\n",
    "    # backward pass\n",
    "    for p in params:\n",
    "        p.grad = None\n",
    "    loss.backward()\n",
    "\n",
    "    # gradient descent\n",
    "    #a = lrs[e]\n",
    "    for p in params:\n",
    "        p.data -= a * p.grad\n",
    "\n",
    "    lossi.append(loss.item())\n",
    "    \n",
    "plt.plot(lossi)"
   ]
  },
  {
   "cell_type": "code",
   "execution_count": 75,
   "id": "7548325a-a0bd-458b-bb56-8fd11b9e0574",
   "metadata": {},
   "outputs": [
    {
     "data": {
      "text/plain": [
       "tensor(2.1731, grad_fn=<NllLossBackward0>)"
      ]
     },
     "execution_count": 75,
     "metadata": {},
     "output_type": "execute_result"
    }
   ],
   "source": [
    "loss"
   ]
  },
  {
   "cell_type": "code",
   "execution_count": 76,
   "id": "a6f3a5fe-dead-4bae-8e6a-e507fcf5097d",
   "metadata": {
    "scrolled": true
   },
   "outputs": [
    {
     "data": {
      "text/plain": [
       "tensor(2.3215, grad_fn=<NllLossBackward0>)"
      ]
     },
     "execution_count": 76,
     "metadata": {},
     "output_type": "execute_result"
    }
   ],
   "source": [
    "# computing loss based on dev set\n"
   ]
  },
  {
   "cell_type": "code",
   "execution_count": 77,
   "id": "93b8cafd-fa44-4e96-b6d8-3f7be91e36a1",
   "metadata": {},
   "outputs": [
    {
     "name": "stdout",
     "output_type": "stream",
     "text": [
      "junide.\n",
      "kanliino.\n",
      "xalinn.\n",
      "haimanna.\n",
      "hhila.\n",
      "cari.\n",
      "arinen.\n",
      "karyan.\n",
      "ravva.\n",
      "keleennt.\n"
     ]
    }
   ],
   "source": [
    "def make_name(k):\n",
    "    g = torch.Generator().manual_seed(2147483647 + k)\n",
    "    out = []\n",
    "    context = [0] * block_size\n",
    "    while True:\n",
    "        emb = C[torch.tensor([context])]\n",
    "        h = torch.tanh(emb.view(1, -1) @ W1 + b1)\n",
    "        logits = h @ W2 + b2\n",
    "        p = F.softmax(logits, dim=1)\n",
    "        i = torch.multinomial(p, num_samples=1, generator=g).item()\n",
    "        context = context[1:] + [i]\n",
    "        out.append(i)\n",
    "        if i == 0:\n",
    "            break\n",
    "\n",
    "    return ''.join([itos[i] for i in out])\n",
    "\n",
    "for k in range(10):\n",
    "    print(make_name(k))"
   ]
  },
  {
   "cell_type": "code",
   "execution_count": 73,
   "id": "b73cf599-c057-46b0-9ab3-883745726ba6",
   "metadata": {},
   "outputs": [],
   "source": [
    "if dim_embed == 2:\n",
    "    plt.figure(figsize=(6,6))\n",
    "    plt.scatter(C[:,0].data, C[:,1].data, s=200)\n",
    "    for i in range(C.shape[0]):\n",
    "        plt.text(C[i,0].item(), C[i,1].item(), itos[i], ha='center', va='center', color='w')\n",
    "    plt.grid('minor')"
   ]
  },
  {
   "cell_type": "code",
   "execution_count": null,
   "id": "60a879f6-08cf-4e9f-b0db-38c3eb6aca55",
   "metadata": {},
   "outputs": [],
   "source": []
  }
 ],
 "metadata": {
  "kernelspec": {
   "display_name": "Python 3 (ipykernel)",
   "language": "python",
   "name": "python3"
  },
  "language_info": {
   "codemirror_mode": {
    "name": "ipython",
    "version": 3
   },
   "file_extension": ".py",
   "mimetype": "text/x-python",
   "name": "python",
   "nbconvert_exporter": "python",
   "pygments_lexer": "ipython3",
   "version": "3.12.2"
  }
 },
 "nbformat": 4,
 "nbformat_minor": 5
}
