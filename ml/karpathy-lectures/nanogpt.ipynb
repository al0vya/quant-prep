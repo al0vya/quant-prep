{
 "cells": [
  {
   "cell_type": "code",
   "execution_count": 6,
   "id": "852f6279-6b13-41ee-948c-71ac46aadde1",
   "metadata": {},
   "outputs": [],
   "source": [
    "import math\n",
    "import random\n",
    "import torch\n",
    "import torch.nn as nn\n",
    "import torch.nn.functional as F\n",
    "import matplotlib.pyplot as plt\n",
    "%matplotlib inline"
   ]
  },
  {
   "cell_type": "code",
   "execution_count": 7,
   "id": "912f381a-8dfd-4225-8394-08810a90d5e2",
   "metadata": {},
   "outputs": [],
   "source": [
    "with open('shakespeare.txt', 'r') as f:\n",
    "    text = f.read()"
   ]
  },
  {
   "cell_type": "code",
   "execution_count": 8,
   "id": "1541ca97-13a7-4933-bb4c-ba5744a387f7",
   "metadata": {},
   "outputs": [
    {
     "name": "stdout",
     "output_type": "stream",
     "text": [
      "Number of characters: 1115394\n"
     ]
    }
   ],
   "source": [
    "print('Number of characters:', len(text))"
   ]
  },
  {
   "cell_type": "code",
   "execution_count": 9,
   "id": "5509db4b-5e2c-4746-bc8b-7e60d73c60e5",
   "metadata": {},
   "outputs": [
    {
     "name": "stdout",
     "output_type": "stream",
     "text": [
      "First Citizen:\n",
      "Before we proceed any further, hear me speak.\n",
      "\n",
      "All:\n",
      "Speak, speak.\n",
      "\n",
      "First Citizen:\n",
      "You are all resolved rather to die than to famish?\n",
      "\n",
      "All:\n",
      "Resolved. resolved.\n",
      "\n",
      "First Citizen:\n",
      "First, you know Caius Marcius is chief enemy to the people.\n",
      "\n",
      "All:\n",
      "We know't, we know't.\n",
      "\n",
      "First Citizen:\n",
      "Let us kill him, and we'll have corn at our own price.\n",
      "Is't a verdict?\n",
      "\n",
      "All:\n",
      "No more talking on't; let it be done: away, away!\n",
      "\n",
      "Second Citizen:\n",
      "One word, good citizens.\n",
      "\n",
      "First Citizen:\n",
      "We are accounted poor citizens, the patricians good.\n",
      "What authority surfeits on would relieve us: if they\n",
      "would yield us but the superfluity, while it were\n",
      "wholesome, we might guess they relieved us humanely;\n",
      "but they think we are too dear: the leanness that\n",
      "afflicts us, the object of our misery, is as an\n",
      "inventory to particularise their abundance; our\n",
      "sufferance is a gain to them Let us revenge this with\n",
      "our pikes, ere we become rakes: for the gods know I\n",
      "speak this in hunger for bread, not in thirst for revenge.\n",
      "\n",
      "\n"
     ]
    }
   ],
   "source": [
    "print(text[:1000])"
   ]
  },
  {
   "cell_type": "code",
   "execution_count": 10,
   "id": "c774641e-51ab-4b45-8729-451515dec36b",
   "metadata": {},
   "outputs": [
    {
     "name": "stdout",
     "output_type": "stream",
     "text": [
      "Vocabulary size: 65\n",
      "\n",
      " !$&',-.3:;?ABCDEFGHIJKLMNOPQRSTUVWXYZabcdefghijklmnopqrstuvwxyz\n"
     ]
    }
   ],
   "source": [
    "# unique chars that occur in text, including newline char \\n\n",
    "chars = sorted(list(set(text)))\n",
    "vocab_size = len(chars) # basically the number of tokens; trade off between number of tokens and length of encoded strings\n",
    "print('Vocabulary size:', vocab_size)\n",
    "print(''.join(chars))"
   ]
  },
  {
   "cell_type": "markdown",
   "id": "1e2c80d5-1dfa-44c1-9553-9d8ed8ad9ea0",
   "metadata": {},
   "source": [
    "**Tokenising**\n",
    "\n",
    "Other tokenisers include [SentencePiece](https://github.com/google/sentencepiece) and [Tiktoken](https://github.com/openai/tiktoken) (used by ChatGPT)."
   ]
  },
  {
   "cell_type": "code",
   "execution_count": 11,
   "id": "7045dfdb-fe90-4ad6-b10b-d8f8afeb5223",
   "metadata": {},
   "outputs": [
    {
     "name": "stdout",
     "output_type": "stream",
     "text": [
      "string: hello world!\n",
      "encoded: [46, 43, 50, 50, 53, 1, 61, 53, 56, 50, 42, 2]\n",
      "decoded: hello world!\n"
     ]
    }
   ],
   "source": [
    "stoi = {c: i for i, c in enumerate(chars)}\n",
    "itos = {i: c for i, c in enumerate(chars)}\n",
    "encode = lambda string: [stoi[c] for c in string]\n",
    "decode = lambda encoded: ''.join([itos[i] for i in encoded])\n",
    "\n",
    "print('string: hello world!')\n",
    "print('encoded:', encode('hello world!'))\n",
    "print('decoded:', decode(encode('hello world!')))"
   ]
  },
  {
   "cell_type": "code",
   "execution_count": 12,
   "id": "2afbdf9c-4cca-4422-a647-53b3abc47ad7",
   "metadata": {},
   "outputs": [
    {
     "name": "stdout",
     "output_type": "stream",
     "text": [
      "Shape of training/dev/test data: torch.Size([1115394])\n",
      "tensor([18, 47, 56, 57, 58,  1, 15, 47, 58, 47, 64, 43, 52, 10,  0, 14, 43, 44,\n",
      "        53, 56, 43,  1, 61, 43,  1, 54, 56, 53, 41, 43, 43, 42,  1, 39, 52, 63,\n",
      "         1, 44, 59, 56, 58, 46, 43, 56,  6,  1, 46, 43, 39, 56,  1, 51, 43,  1,\n",
      "        57, 54, 43, 39, 49,  8,  0,  0, 13, 50, 50, 10,  0, 31, 54, 43, 39, 49,\n",
      "         6,  1, 57, 54, 43, 39, 49,  8,  0,  0, 18, 47, 56, 57, 58,  1, 15, 47,\n",
      "        58, 47, 64, 43, 52, 10,  0, 37, 53, 59])\n"
     ]
    }
   ],
   "source": [
    "data = torch.tensor(encode(text), dtype=torch.long)\n",
    "print('Shape of training/dev/test data:', data.shape) # just a long one dimensional tensor\n",
    "print(data[:100])"
   ]
  },
  {
   "cell_type": "code",
   "execution_count": 13,
   "id": "32fc58a2-bcb3-4b08-a143-4e7cfcc34066",
   "metadata": {},
   "outputs": [],
   "source": [
    "n = int(0.8 * len(data))\n",
    "training_data = data[:n]\n",
    "val_data = data[n:]"
   ]
  },
  {
   "cell_type": "code",
   "execution_count": 14,
   "id": "3d58b6d5-e34d-4b56-ae53-0a0c245bbdd7",
   "metadata": {},
   "outputs": [
    {
     "data": {
      "text/plain": [
       "tensor([18, 47, 56, 57, 58,  1, 15, 47, 58])"
      ]
     },
     "execution_count": 14,
     "metadata": {},
     "output_type": "execute_result"
    }
   ],
   "source": [
    "context_len = 8\n",
    "data[:context_len+1] # first training data"
   ]
  },
  {
   "cell_type": "code",
   "execution_count": 15,
   "id": "371c21f2-779d-485f-9276-a5941dccafb4",
   "metadata": {},
   "outputs": [
    {
     "name": "stdout",
     "output_type": "stream",
     "text": [
      "input: tensor([18]), target: 47\n",
      "input: tensor([18, 47]), target: 56\n",
      "input: tensor([18, 47, 56]), target: 57\n",
      "input: tensor([18, 47, 56, 57]), target: 58\n",
      "input: tensor([18, 47, 56, 57, 58]), target: 1\n",
      "input: tensor([18, 47, 56, 57, 58,  1]), target: 15\n",
      "input: tensor([18, 47, 56, 57, 58,  1, 15]), target: 47\n",
      "input: tensor([18, 47, 56, 57, 58,  1, 15, 47]), target: 58\n"
     ]
    }
   ],
   "source": [
    "X = data[:context_len]\n",
    "y = data[1:context_len+1]\n",
    "for i in range(context_len):\n",
    "    input_ = X[:i+1]\n",
    "    target = y[i].item()\n",
    "    print(f'input: {input_}, target: {target}')"
   ]
  },
  {
   "cell_type": "code",
   "execution_count": 16,
   "id": "19dbcb8d-8cd5-47d5-abe8-9ff55850ed86",
   "metadata": {},
   "outputs": [
    {
     "name": "stdout",
     "output_type": "stream",
     "text": [
      "inputs:\n",
      "torch.Size([4, 8])\n",
      "tensor([[58, 63,  8,  0,  0, 19, 24, 27],\n",
      "        [39, 59, 45, 46, 58,  1, 46, 43],\n",
      "        [49, 43, 57,  1, 53, 50, 42,  1],\n",
      "        [52, 41, 47, 43, 52, 58,  1, 56]])\n",
      "targets:\n",
      "torch.Size([4, 8])\n",
      "tensor([[63,  8,  0,  0, 19, 24, 27, 33],\n",
      "        [59, 45, 46, 58,  1, 46, 43,  1],\n",
      "        [43, 57,  1, 53, 50, 42,  1, 46],\n",
      "        [41, 47, 43, 52, 58,  1, 56, 47]])\n"
     ]
    }
   ],
   "source": [
    "torch.manual_seed(1337)\n",
    "\n",
    "batch_size = 4\n",
    "context_len = 8\n",
    "\n",
    "def get_batch(split):\n",
    "    data = training_data if split == 'train' else val_data\n",
    "    ix = torch.randint(len(data) - context_len, (batch_size, )) # ix never reaches the end of the tensor\n",
    "    X = torch.stack([data[i:i+context_len] for i in ix])\n",
    "    y = torch.stack([data[i+1:i+context_len+1] for i in ix])\n",
    "    return X, y\n",
    "\n",
    "Xb, yb = get_batch('train')\n",
    "\n",
    "print('inputs:')\n",
    "print(Xb.shape)\n",
    "print(Xb)\n",
    "print('targets:')\n",
    "print(yb.shape)\n",
    "print(yb)"
   ]
  },
  {
   "cell_type": "markdown",
   "id": "e0ebbae4-40e1-4531-9895-96db6b5dad6b",
   "metadata": {},
   "source": [
    "**Batch and time dimensions**\n",
    "\n",
    "If each input has a context length of T (so named because it's the 'time' dimension: the history the model can refer to per input) and we have a batch of B inputs, we actually have T $\\times$ B input-target pairs."
   ]
  },
  {
   "cell_type": "code",
   "execution_count": 17,
   "id": "034c903a-3783-4c5e-bbeb-2bc91da14f5f",
   "metadata": {},
   "outputs": [
    {
     "name": "stdout",
     "output_type": "stream",
     "text": [
      "context: tensor([58]), target: 63\n",
      "context: tensor([58, 63]), target: 8\n",
      "context: tensor([58, 63,  8]), target: 0\n",
      "context: tensor([58, 63,  8,  0]), target: 0\n",
      "context: tensor([58, 63,  8,  0,  0]), target: 19\n",
      "context: tensor([58, 63,  8,  0,  0, 19]), target: 24\n",
      "context: tensor([58, 63,  8,  0,  0, 19, 24]), target: 27\n",
      "context: tensor([58, 63,  8,  0,  0, 19, 24, 27]), target: 33\n",
      "context: tensor([39]), target: 59\n",
      "context: tensor([39, 59]), target: 45\n",
      "context: tensor([39, 59, 45]), target: 46\n",
      "context: tensor([39, 59, 45, 46]), target: 58\n",
      "context: tensor([39, 59, 45, 46, 58]), target: 1\n",
      "context: tensor([39, 59, 45, 46, 58,  1]), target: 46\n",
      "context: tensor([39, 59, 45, 46, 58,  1, 46]), target: 43\n",
      "context: tensor([39, 59, 45, 46, 58,  1, 46, 43]), target: 1\n",
      "context: tensor([49]), target: 43\n",
      "context: tensor([49, 43]), target: 57\n",
      "context: tensor([49, 43, 57]), target: 1\n",
      "context: tensor([49, 43, 57,  1]), target: 53\n",
      "context: tensor([49, 43, 57,  1, 53]), target: 50\n",
      "context: tensor([49, 43, 57,  1, 53, 50]), target: 42\n",
      "context: tensor([49, 43, 57,  1, 53, 50, 42]), target: 1\n",
      "context: tensor([49, 43, 57,  1, 53, 50, 42,  1]), target: 46\n",
      "context: tensor([52]), target: 41\n",
      "context: tensor([52, 41]), target: 47\n",
      "context: tensor([52, 41, 47]), target: 43\n",
      "context: tensor([52, 41, 47, 43]), target: 52\n",
      "context: tensor([52, 41, 47, 43, 52]), target: 58\n",
      "context: tensor([52, 41, 47, 43, 52, 58]), target: 1\n",
      "context: tensor([52, 41, 47, 43, 52, 58,  1]), target: 56\n",
      "context: tensor([52, 41, 47, 43, 52, 58,  1, 56]), target: 47\n"
     ]
    }
   ],
   "source": [
    "for b in range(batch_size): # batch dimension\n",
    "    for t in range(context_len): # time dimension\n",
    "        context = Xb[b, :t+1]\n",
    "        target = yb[b, t]\n",
    "        print(f'context: {context}, target: {target}')"
   ]
  },
  {
   "cell_type": "code",
   "execution_count": 18,
   "id": "e09d82af-a33e-4416-aa9c-915d4b77d9cb",
   "metadata": {},
   "outputs": [
    {
     "name": "stdout",
     "output_type": "stream",
     "text": [
      "torch.Size([32, 65])\n",
      "tensor(4.6627, grad_fn=<NllLossBackward0>)\n",
      "torch.Size([1, 501])\n",
      "\n",
      "l-QYjt'CL?jLDuQcLzy'RIo;'KdhpV\n",
      "vLixa,nswYZwLEPS'ptIZqOZJ$CA$zy-QTkeMk x.gQSFCLg!iW3fO!3DGXAqTsq3pdgq!LznIeJydZJSrFSrPLR!:VwWSmFNxbjPiNYQ:sry,OfKrxfvJI$WS3JqCbB-TSQXeKroeZfPL&,:opkl;Bvtz$LmOMyDjxxaZWtpv,OxZQsWZalk'uxajqgoSXAWt'e.Q$.lE-aV\n",
      ";spkRHcpkdot:u'-NGEzkMPy'hZCWhv.w.q!f'mOxF&IDRR,x\n",
      "?$Ox?xj.BHJsGhwVtcuyoMIRfhoPL&fg-NwJmOQalcEDveP$IYUMv&JMHkzd:O;yXCV?wy.RRyMys-fg;kHOB EacboP g;txxfPL\n",
      "NTMlX'FNYcpkHSGHNuoKXe..ehnsarggGFrSjIr!SXJ?KeMl!.?,MlbDP!sfyfBPeNqwjLtIxiwDDjSJzydFm$CfhqkCe,n:kyRBubVbxdojhEz\n"
     ]
    }
   ],
   "source": [
    "class BigramLanguageModel(nn.Module):\n",
    "\n",
    "    def __init__(self, vocab_size):\n",
    "        super().__init__()\n",
    "        self.token_embedding_table = nn.Embedding(vocab_size, vocab_size)\n",
    "\n",
    "    def forward(self, ix, targets=None):\n",
    "        # idx is a tensor of size (B,T)\n",
    "        logits = self.token_embedding_table(ix) # call to embedding layer just indexs at idx and returns\n",
    "        # logits is made up of B batches of matrices T rows long, each row vocab_size wide, i.e. (B,T,vocab_size) \n",
    "        \n",
    "        if targets == None:\n",
    "            loss = None\n",
    "        else:\n",
    "            B, T, C = logits.shape\n",
    "            logits = logits.view(B*T, C)\n",
    "            # targets is also (B,T)\n",
    "            targets = targets.view(B*T)\n",
    "            loss = F.cross_entropy(logits, targets)\n",
    "        \n",
    "        return logits, loss\n",
    "\n",
    "    def generate(self, ix, max_tokens):\n",
    "        for _ in range(max_tokens):\n",
    "            logits, loss = self(ix)\n",
    "            logits = logits[:, -1, :]\n",
    "            probs = F.softmax(logits, dim=1)\n",
    "            ix_next = torch.multinomial(probs, num_samples=1)\n",
    "            ix = torch.cat((ix, ix_next), dim=1)\n",
    "        return ix\n",
    "\n",
    "m = BigramLanguageModel(vocab_size)\n",
    "out, loss = m(Xb, yb)\n",
    "print(out.shape)\n",
    "print(loss)\n",
    "\n",
    "ix = torch.zeros((1,1), dtype=torch.long)\n",
    "encoded = m.generate(ix, max_tokens=500)\n",
    "print(encoded.shape)\n",
    "print(decode(encoded[0].tolist()))"
   ]
  },
  {
   "cell_type": "code",
   "execution_count": 19,
   "id": "915d172a-e385-42c6-99b4-5b8097876673",
   "metadata": {},
   "outputs": [],
   "source": [
    "optimiser = torch.optim.AdamW(m.parameters(), lr=1e-3)"
   ]
  },
  {
   "cell_type": "code",
   "execution_count": 178,
   "id": "c3ccfcec-3276-4d4a-9548-521198af6dcf",
   "metadata": {},
   "outputs": [
    {
     "name": "stdout",
     "output_type": "stream",
     "text": [
      "2.3259451389312744\n"
     ]
    }
   ],
   "source": [
    "batch_size = 32\n",
    "epochs = 100\n",
    "\n",
    "for e in range(epochs):\n",
    "    Xb, yb = get_batch('train')\n",
    "    logits, loss = m(Xb, yb)\n",
    "    optimiser.zero_grad(set_to_none=True)\n",
    "    loss.backward()\n",
    "    optimiser.step()\n",
    "\n",
    "print(loss.item())"
   ]
  },
  {
   "cell_type": "code",
   "execution_count": 182,
   "id": "954cfd98-8aca-49ca-815c-3a958bfbfda0",
   "metadata": {},
   "outputs": [
    {
     "name": "stdout",
     "output_type": "stream",
     "text": [
      "\n",
      "\n",
      "Tu agomeispto wesaif ot, bones ' moa\n",
      "LIsesfoltront sts\n",
      "hint! mprd sthivit nd\n",
      "otor LA:\n",
      "HRID:\n",
      "N OPAprl atauravelss.\n",
      "I re, o tin pot,\n",
      "IDUSp al t alet hife harmy a gat t er atl ss\n",
      "ARI mastourardwss,\n",
      "I:\n",
      "thastinstcacet,\n",
      "we tyeramo'Thawhe arte sco clore ors t'sth;\n",
      "Dordmmarerliry inires l keray fonds me ourotea t itan K:\n",
      "Tharye a youne ceay ouatheat hechact dem? yofopy d, aveit napas y d paven:\n",
      "\n",
      "\n",
      "IIOLinear t me me buthil de ompid I ureng thr dghor! fr'semeng.\n",
      "\n",
      "trd,OXFounde; thend.\n",
      "ABOMA thifame,\n",
      "WARYou\n"
     ]
    }
   ],
   "source": [
    "ix = torch.zeros((1,1), dtype=torch.long)\n",
    "encoded = m.generate(ix, max_tokens=500)\n",
    "print(decode(encoded[0].tolist()))"
   ]
  },
  {
   "cell_type": "code",
   "execution_count": 184,
   "id": "0d8bf27b-b09c-47af-9e6b-0235725639e4",
   "metadata": {},
   "outputs": [
    {
     "data": {
      "text/plain": [
       "torch.Size([4, 8, 26])"
      ]
     },
     "execution_count": 184,
     "metadata": {},
     "output_type": "execute_result"
    }
   ],
   "source": [
    "B, T, C = 4, 8, 26\n",
    "tok_emb = torch.randn((B,T,C))\n",
    "head_size = 16\n",
    "keys = nn.Linear(C, head_size, bias=False)\n",
    "queries = nn.Linear(C, head_size, bias=False)\n",
    "k = keys(tok_emb)\n",
    "q = queries(tok_emb)\n",
    "tril = torch.tril(torch.ones(T,T))\n",
    "W = torch.zeros((T,T))\n",
    "W = W.masked_fill(tril == 0, float('-inf'))\n",
    "W = F.softmax(W, dim=1)\n",
    "out = W @ tok_emb\n",
    "out.shape"
   ]
  },
  {
   "cell_type": "code",
   "execution_count": null,
   "id": "7851128d-5b72-4827-92a8-9899552bb87b",
   "metadata": {},
   "outputs": [],
   "source": []
  }
 ],
 "metadata": {
  "kernelspec": {
   "display_name": "Python 3 (ipykernel)",
   "language": "python",
   "name": "python3"
  },
  "language_info": {
   "codemirror_mode": {
    "name": "ipython",
    "version": 3
   },
   "file_extension": ".py",
   "mimetype": "text/x-python",
   "name": "python",
   "nbconvert_exporter": "python",
   "pygments_lexer": "ipython3",
   "version": "3.12.2"
  }
 },
 "nbformat": 4,
 "nbformat_minor": 5
}
